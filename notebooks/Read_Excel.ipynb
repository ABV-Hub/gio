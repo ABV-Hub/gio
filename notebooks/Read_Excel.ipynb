{
 "cells": [
  {
   "cell_type": "markdown",
   "metadata": {},
   "source": [
    "# Read Excel\n",
    "\n",
    "- The easiest thing to do is to use `pandas`: [docs](http://pandas.pydata.org/pandas-docs/version/0.20/generated/pandas.read_excel.html)\n",
    "- There's also `openpyxl`: [docs](https://openpyxl.readthedocs.io/en/default/)\n",
    "- [More options](http://www.python-excel.org/)"
   ]
  },
  {
   "cell_type": "code",
   "execution_count": null,
   "metadata": {
    "collapsed": true
   },
   "outputs": [],
   "source": []
  }
 ],
 "metadata": {
  "anaconda-cloud": {},
  "kernelspec": {
   "display_name": "Python [python3]",
   "language": "python",
   "name": "Python [python3]"
  },
  "language_info": {
   "codemirror_mode": {
    "name": "ipython",
    "version": 3
   },
   "file_extension": ".py",
   "mimetype": "text/x-python",
   "name": "python",
   "nbconvert_exporter": "python",
   "pygments_lexer": "ipython3",
   "version": "3.5.2"
  }
 },
 "nbformat": 4,
 "nbformat_minor": 0
}
