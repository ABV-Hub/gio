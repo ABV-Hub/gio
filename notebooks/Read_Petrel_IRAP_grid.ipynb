{
 "cells": [
  {
   "cell_type": "markdown",
   "metadata": {},
   "source": [
    "#### Preliminaries - import dependencies"
   ]
  },
  {
   "cell_type": "code",
   "execution_count": null,
   "metadata": {
    "collapsed": false
   },
   "outputs": [],
   "source": [
    "%matplotlib inline\n",
    "\n",
    "import numpy as np\n",
    "import scipy as sp  \n",
    "import matplotlib.pyplot as plt\n",
    "from linecache import getline"
   ]
  },
  {
   "cell_type": "markdown",
   "metadata": {},
   "source": [
    "#### Import a Petrel surface as IRAP grid file.\n",
    "\n",
    "##### NB:  IRAP grid files have a 4-line header and then Z values arranged in rows of 6.  In a few instances, however, the IRAP grid exported did not have 6 values in the last row, in which case this method will break, unless NaNs are added (by hand or other means).                                           "
   ]
  },
  {
   "cell_type": "raw",
   "metadata": {},
   "source": [
    "The surface was exported from Petrel as an IRAP grid; we will get some basic information from the file header\n",
    "The header looks like this:   \n",
    "\n",
    "-nnn nInlines Xspacing Yspacing\n",
    "Xmin Xmax Ymin Ymax\n",
    "nXlines 0.000000 X Y\n",
    "0 0 0 0 0 0 0"
   ]
  },
  {
   "cell_type": "code",
   "execution_count": null,
   "metadata": {
    "collapsed": false
   },
   "outputs": [],
   "source": [
    "# Import the grid, skipping the 4-row header\n",
    "grid  = np.loadtxt(\"\\\\your_directory_path\\grid_IRAP\", skiprows=4)"
   ]
  },
  {
   "cell_type": "code",
   "execution_count": null,
   "metadata": {
    "collapsed": false
   },
   "outputs": [],
   "source": [
    "# Calculate the number of rows and columns in the raw file and total number of points\n",
    "r, c = grid.shape\n",
    "npoints = r*c "
   ]
  },
  {
   "cell_type": "markdown",
   "metadata": {},
   "source": [
    "#### Get nInlines and nXlines, reshape grid and plot"
   ]
  },
  {
   "cell_type": "code",
   "execution_count": null,
   "metadata": {
    "collapsed": true
   },
   "outputs": [],
   "source": [
    "# get the string containing nInlines from line one of the header\n",
    "grid1 = getline(\"grid_IRAP\", 1)\n",
    "grid2 = getline(\"grid_IRAP\", 2)\n",
    "\n",
    "# split values in the string and convert them to floating point numbers\n",
    "g1a, g1b, g1c, g1d = (grid1.split(\" \"))\n",
    "nInlines = float(g1b)\n",
    "\n",
    "g2a, g2b, g2c, g2d = (grid2.split(\" \"))\n",
    "nXlines = float(g2a)"
   ]
  },
  {
   "cell_type": "code",
   "execution_count": null,
   "metadata": {
    "collapsed": false
   },
   "outputs": [],
   "source": [
    "# It looks like we have 'npoints' grid points in total, organized in 'r' rows with c (this is always 6) values in each\n",
    "# From the header we see that the grid had a size/shape of nInlines x nXlines.  \n",
    "# Do we have all the points?\n",
    "\n",
    "assert nInlines * nXlines == npoints\n",
    "# it checks"
   ]
  },
  {
   "cell_type": "code",
   "execution_count": null,
   "metadata": {
    "collapsed": false
   },
   "outputs": [],
   "source": [
    "# Reshape the points into an r*c columns rectangular array \n",
    "newgrid = np.reshape(grid, (nInlines, nXlines))\n",
    "\n",
    "# check the shape\n",
    "newgrid.shape"
   ]
  },
  {
   "cell_type": "code",
   "execution_count": null,
   "metadata": {
    "collapsed": false
   },
   "outputs": [],
   "source": [
    "# N.B.\n",
    "# use origin 'lower' or the image will be upside down (origin of an image is the top left)\n",
    "\n",
    "# let's take a look\n",
    "fig = plt.figure(figsize=(12, 7))\n",
    "\n",
    "ax = fig.add_subplot(1, 1, 1)\n",
    "ax.set_xticks([])\n",
    "ax.set_yticks([])\n",
    "\n",
    "plt.imshow(newgrid, cmap='gray_r',origin='lower')\n",
    "plt.show()"
   ]
  },
  {
   "cell_type": "code",
   "execution_count": null,
   "metadata": {
    "collapsed": false
   },
   "outputs": [],
   "source": [
    "# Check for null values/invalid data\n",
    "max = np.amax(newgrid) \n",
    "min = np.amin(newgrid)\n",
    "print max, min\n",
    "\n",
    "# it looks like the max value, 9999900.0, is the null"
   ]
  },
  {
   "cell_type": "code",
   "execution_count": null,
   "metadata": {
    "collapsed": false
   },
   "outputs": [],
   "source": [
    "# To eliminate the null value points, first we create a masked array \n",
    "# This way those values are not taken into account when calculating the mean value\n",
    "finalgrid = np.ma.masked_where(newgrid == max, newgrid)\n",
    "fgridmean = finalgrid.mean()\n",
    "\n",
    "# Then we replace them with the mean value\n",
    "finalgrid = finalgrid.filled(fgridmean)"
   ]
  },
  {
   "cell_type": "code",
   "execution_count": null,
   "metadata": {
    "collapsed": false
   },
   "outputs": [],
   "source": [
    "# Let's take a look again\n",
    "fig = plt.figure(figsize=(12, 7))\n",
    "\n",
    "ax = fig.add_subplot(1, 1, 1)\n",
    "ax.set_xticks([])\n",
    "ax.set_yticks([])\n",
    "\n",
    "plt.imshow(finalgrid, cmap='gray_r', origin='lower')\n",
    "plt.show()"
   ]
  },
  {
   "cell_type": "markdown",
   "metadata": {},
   "source": [
    "#### Plotting grid with coordinates and contour overlay"
   ]
  },
  {
   "cell_type": "code",
   "execution_count": null,
   "metadata": {
    "collapsed": false
   },
   "outputs": [],
   "source": [
    "# get the string containing X,Y limits from line two of the header\n",
    "grid_space = getline(\"grid_IRAP, 2)"
   ]
  },
  {
   "cell_type": "code",
   "execution_count": null,
   "metadata": {
    "collapsed": false
   },
   "outputs": [],
   "source": [
    "# split values in the string and conver them to floating point numbers\n",
    "xmin, xmax, ymin, ymax = (grid_space.split(\" \"))\n",
    "xmin, xmax, ymin, ymax = float(xmin), float(xmax), float(ymin), float(ymax)"
   ]
  },
  {
   "cell_type": "code",
   "execution_count": null,
   "metadata": {
    "collapsed": false
   },
   "outputs": [],
   "source": [
    "# create X, Y arrays\n",
    "r1, c1 = finalgrid.shape\n",
    "\n",
    "x = np.linspace(xmin,xmax,c1)\n",
    "y = np.linspace(ymin,ymax,r1)"
   ]
  },
  {
   "cell_type": "code",
   "execution_count": null,
   "metadata": {
    "collapsed": false
   },
   "outputs": [],
   "source": [
    "# plot distance image versus X,Y coordinates and add contours\n",
    "\n",
    "fig = plt.figure(figsize=(18, 12))\n",
    "\n",
    "ax = fig.add_subplot(1, 1, 1)\n",
    "\n",
    "plt.imshow(finalgrid, cmap='viridis',\n",
    "           extent=[xmin, xmax, ymin, ymax], origin='lower')\n",
    "\n",
    "levels = np.arange(5., 90., 10.)\n",
    "CS = plt.contour(finalgrid, levels, colors='k',\n",
    "                 origin='lower',\n",
    "                 linewidths=1,\n",
    "                 extent=[xmin, xmax, ymin, ymax])\n",
    "\n",
    "plt.show()\n",
    "\n",
    "# some useful reference:\n",
    "# http://matplotlib.org/examples/pylab_examples/pcolor_demo.html\n",
    "# http://matplotlib.org/examples/pylab_examples/contour_demo.html"
   ]
  },
  {
   "cell_type": "markdown",
   "metadata": {},
   "source": [
    "#### Do something with the grid"
   ]
  },
  {
   "cell_type": "code",
   "execution_count": null,
   "metadata": {
    "collapsed": true
   },
   "outputs": [],
   "source": [
    "## filtered_grid = bla bla bla"
   ]
  },
  {
   "cell_type": "markdown",
   "metadata": {},
   "source": [
    "#### Export results"
   ]
  },
  {
   "cell_type": "code",
   "execution_count": null,
   "metadata": {
    "collapsed": false
   },
   "outputs": [],
   "source": [
    "# 1 - Reverse reshape \n",
    "# 2 - Replace final values in the original grid, add headers, and export"
   ]
  },
  {
   "cell_type": "code",
   "execution_count": null,
   "metadata": {
    "collapsed": false
   },
   "outputs": [],
   "source": [
    "# 1 - Reverse reshape \n",
    "outgrid = np.reshape(filtered_grid, (r,c))\n",
    "\n",
    "# Check\n",
    "outgrid.shape"
   ]
  },
  {
   "cell_type": "code",
   "execution_count": null,
   "metadata": {
    "collapsed": false
   },
   "outputs": [],
   "source": [
    "# 2 - Copy the original grid, replace all non null values in it with distance values\n",
    "output = grid\n",
    "output[grid != max] = outgrid[grid != max]"
   ]
  },
  {
   "cell_type": "code",
   "execution_count": null,
   "metadata": {
    "collapsed": false
   },
   "outputs": [],
   "source": [
    "# Create output header\n",
    "\n",
    "header =  \"%s%s\" % (getline(\"grid_IRAP\", 1), \"\\n\") \n",
    "header += \"%s%s\" % (getline(\"grid_IRAP\", 2), \"\\n\") \n",
    "header += \"%s%s\" % (getline(\"grid_IRAP\", 3), \"\\n\") \n",
    "header += \"%s%s\" % (getline(\"grid_IRAP\", 4), \"\\n\") "
   ]
  },
  {
   "cell_type": "code",
   "execution_count": null,
   "metadata": {
    "collapsed": false
   },
   "outputs": [],
   "source": [
    "# export the final map\n",
    "# Open output file, write header to it, then add distance grid\n",
    "           \n",
    "with open(\"\\\\your_directory_path\", \"w\") as f:\n",
    "    f.write(header)\n",
    "    np.savetxt(f,output,delimiter=' ', fmt='%f')"
   ]
  }
 ],
 "metadata": {
  "kernelspec": {
   "display_name": "Python 2",
   "language": "python",
   "name": "python2"
  },
  "language_info": {
   "codemirror_mode": {
    "name": "ipython",
    "version": 2
   },
   "file_extension": ".py",
   "mimetype": "text/x-python",
   "name": "python",
   "nbconvert_exporter": "python",
   "pygments_lexer": "ipython2",
   "version": "2.7.13"
  }
 },
 "nbformat": 4,
 "nbformat_minor": 0
}
