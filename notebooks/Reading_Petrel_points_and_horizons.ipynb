{
 "cells": [
  {
   "cell_type": "markdown",
   "metadata": {},
   "source": [
    "# Reading Petrel points"
   ]
  },
  {
   "cell_type": "code",
   "execution_count": 1,
   "metadata": {
    "collapsed": false
   },
   "outputs": [],
   "source": [
    "import re\n",
    "import numpy as np\n",
    "from io import StringIO"
   ]
  },
  {
   "cell_type": "code",
   "execution_count": 2,
   "metadata": {
    "collapsed": true
   },
   "outputs": [],
   "source": [
    "import geopandas as gp\n",
    "from shapely.geometry import Point, LineString"
   ]
  },
  {
   "cell_type": "code",
   "execution_count": 3,
   "metadata": {
    "collapsed": false
   },
   "outputs": [],
   "source": [
    "import matplotlib.pyplot as plt\n",
    "%matplotlib inline"
   ]
  },
  {
   "cell_type": "code",
   "execution_count": 4,
   "metadata": {
    "collapsed": true
   },
   "outputs": [],
   "source": [
    "points_file = \"../data/Petrel_points_extract.txt\""
   ]
  },
  {
   "cell_type": "markdown",
   "metadata": {},
   "source": [
    "Let's look at the start of the file:"
   ]
  },
  {
   "cell_type": "code",
   "execution_count": 5,
   "metadata": {
    "collapsed": false
   },
   "outputs": [
    {
     "name": "stdout",
     "output_type": "stream",
     "text": [
      "# Petrel Points with attributes\n",
      "# Unit in X and Y direction: m\n",
      "# Unit in depth: m\n",
      "VERSION 1\n",
      "BEGIN HEADER\n",
      "X\n",
      "Y\n",
      "Z\n",
      "END HEADER\n",
      "374667.10 4541269.76 -5199.68 \n",
      "374662.03 4541281.19 -5199.59 \n",
      "374656.96 4541292.62 -5199.50 \n",
      "374651.89 4541304.04 -5199.44 \n",
      "374646.83 \n"
     ]
    }
   ],
   "source": [
    "with open(points_file) as f:\n",
    "    c = f.read()\n",
    "print(c[:256])"
   ]
  },
  {
   "cell_type": "markdown",
   "metadata": {},
   "source": [
    "We can make a function to parse the header into some variables, and read the bulk of the file – the data — into a NumPy array."
   ]
  },
  {
   "cell_type": "code",
   "execution_count": 6,
   "metadata": {
    "collapsed": false
   },
   "outputs": [],
   "source": [
    "def gdf_from_points(points_file):\n",
    "    \"\"\"\n",
    "    Read a Petrel points file and create a GeoPandas DataFrame.\n",
    "    \"\"\"\n",
    "    with open(points_file) as f:\n",
    "        comments, fields = [], []\n",
    "        in_header = False\n",
    "\n",
    "        while True:\n",
    "            line = f.readline().strip()\n",
    "            if line.startswith('#'):\n",
    "                comments.append(line.strip('# '))\n",
    "            elif line.startswith('VERSION'):\n",
    "                version = line.split()[-1]\n",
    "            elif line.startswith('BEGIN'):\n",
    "                in_header = True\n",
    "            elif line.startswith('END'):\n",
    "                in_header = False\n",
    "                break\n",
    "            elif in_header:\n",
    "                fields.append(line.strip())\n",
    "            else:\n",
    "                break\n",
    "\n",
    "        d = f.read()\n",
    "        s = StringIO(d)\n",
    "        data = np.loadtxt(s)\n",
    "\n",
    "        geoseries = gp.GeoSeries([Point(r[0], r[1]).buffer(5) for r in data])\n",
    "        d = {'geometry': geoseries, 'twt': -data[:,2]}\n",
    "\n",
    "        return gp.GeoDataFrame(d)"
   ]
  },
  {
   "cell_type": "markdown",
   "metadata": {},
   "source": [
    "Read the subset of data:"
   ]
  },
  {
   "cell_type": "code",
   "execution_count": 7,
   "metadata": {
    "collapsed": false
   },
   "outputs": [],
   "source": [
    "seafloor = gdf_from_points(points_file)"
   ]
  },
  {
   "cell_type": "code",
   "execution_count": 9,
   "metadata": {
    "collapsed": false
   },
   "outputs": [
    {
     "data": {
      "image/png": "[encoded data removed]",
      "text/plain": [
       "<matplotlib.figure.Figure at 0x11606f470>"
      ]
     },
     "metadata": {},
     "output_type": "display_data"
    }
   ],
   "source": [
    "seafloor.plot()\n",
    "plt.show()"
   ]
  },
  {
   "cell_type": "markdown",
   "metadata": {},
   "source": [
    "## Petrel horizons"
   ]
  },
  {
   "cell_type": "code",
   "execution_count": 10,
   "metadata": {
    "collapsed": true
   },
   "outputs": [],
   "source": [
    "horizon_file = \"../data/Petrel_IESX2D_horizon_extract.txt\""
   ]
  },
  {
   "cell_type": "code",
   "execution_count": 12,
   "metadata": {
    "collapsed": false
   },
   "outputs": [
    {
     "name": "stdout",
     "output_type": "stream",
     "text": [
      "PROFILE Fault to seafloor    TYPE 1  5 By Petrel 2014.2 (64-bit)                2d_ci7m_gf.ifdf  m  ms\n",
      "SNAPPING PARAMETERS 5     2 2\n",
      "  4.19846879E+05  4.66812161E+06  1 14  2742.85   5460.00  16382.00 4262               2 276-109::normTOv                          \n",
      "  4.19840089E+05  4.66813210E+06  1 14  2756.25   5461.00  16383.00 4263               2 276-109::normTOv                          \n",
      "  4.19833299E+05  4.66814259E+06  1 14  2769.65   5461.00  16384.00 4264               2 276-109::normTOv          \n"
     ]
    }
   ],
   "source": [
    "with open(horizon_file) as f:\n",
    "    c = f.read()\n",
    "    \n",
    "print(c[:512])"
   ]
  },
  {
   "cell_type": "markdown",
   "metadata": {},
   "source": [
    "Not totally sure what all these fields are. There seems to be two rows of header info for each horizon. This is followed by space-delimited data fields with columns as follows:\n",
    "\n",
    "1. X-coordinate, float\n",
    "1. Y-coordinate, float\n",
    "1. Segment number, int\n",
    "1. Symbol code, int\n",
    "1. Two-way time (ms), float\n",
    "1. Shot-point number, float\n",
    "1. CDP number, float\n",
    "1. Trace number, int\n",
    "1. Line type (2=2D, I=inline, X=crossline), int\n",
    "1. 2D line name or 3D survey name, str\n",
    "\n",
    "I have asked about this [on Stack Exchange](http://earthscience.stackexchange.com/questions/4897/what-are-the-fields-in-petrels-iesx-seismic-horizon-file) and on LinkedIn. "
   ]
  },
  {
   "cell_type": "code",
   "execution_count": 13,
   "metadata": {
    "collapsed": false
   },
   "outputs": [
    {
     "data": {
      "text/plain": [
       "'Fault to seafloor'"
      ]
     },
     "execution_count": 13,
     "metadata": {},
     "output_type": "execute_result"
    }
   ],
   "source": [
    "import re\n",
    "s = \"PROFILE Fault to seafloor    TYPE 1  5 By Petrel 2014.2 (64-bit)                2d_ci7m_gf.ifdf  m  ms\"\n",
    "re.search(r'PROFILE (.+?) +TYPE', s).group(1)"
   ]
  },
  {
   "cell_type": "markdown",
   "metadata": {},
   "source": [
    "I think we can use the first integer as a sort of flag to determine the start of a new 'segment'. \n",
    "\n",
    "I want to make a shapefile with line segments, I think. Not totally sure about that..."
   ]
  },
  {
   "cell_type": "code",
   "execution_count": 19,
   "metadata": {
    "collapsed": false
   },
   "outputs": [],
   "source": [
    "import operator, re\n",
    "\n",
    "def gdf_from_iesx(filename, threed=False):\n",
    "    \"\"\"\n",
    "    Read a Petrel IESX file and create a GeoPandas DataFrame.\n",
    "    \"\"\"\n",
    "    with open(filename) as f:\n",
    "\n",
    "        points, linestrings, names = [], [], []\n",
    "        mins, maxs = [], []\n",
    "        min_sfls, max_sfls = [], []\n",
    "        minx, miny = [], []\n",
    "        last_cdp = 0\n",
    "        skip = False\n",
    "        \n",
    "        while True:\n",
    "            line = f.readline().strip()        \n",
    "            if not line:\n",
    "                # End of file\n",
    "                break\n",
    "            elif line.startswith('EOD'):\n",
    "                # End of horizon\n",
    "                last_cdp = 0 # Force capture\n",
    "            elif line.startswith('SNAPPING'):\n",
    "                continue\n",
    "            elif line.startswith('PROFILE'):\n",
    "                name = re.search(r'PROFILE (.+?) +TYPE', line).group(1)\n",
    "                \n",
    "                # Some 'label' horizons slipped though, skip 'em.\n",
    "                if name.startswith('---'):\n",
    "                    skip = True\n",
    "                else:\n",
    "                    skip = False\n",
    "                    print()\n",
    "                    print(name, end=\"\")\n",
    "            else:\n",
    "                if skip == True:\n",
    "                    continue\n",
    "                \n",
    "                line = line.split()\n",
    "                x, y = float(line[0]), float(line[1])\n",
    "                twtt = float(line[4])\n",
    "\n",
    "                if threed:\n",
    "                    this_cdp = int(line[5]) + int(line[9])\n",
    "                else:\n",
    "                    this_cdp = int(line[7])\n",
    "\n",
    "                if abs(this_cdp - last_cdp) < 2:\n",
    "                    # Then it's a regular line, so keep adding\n",
    "                    points.append(Point(x, y, twtt))\n",
    "                    last_cdp = this_cdp\n",
    "                else:\n",
    "                    if len(points) < 2:\n",
    "                        last_cdp = this_cdp\n",
    "                        continue\n",
    "                        \n",
    "                    print('.', end=\"\")\n",
    "\n",
    "                    # Capture what we have\n",
    "                    linestrings.append(LineString(points))\n",
    "                    names.append(name)\n",
    "                    zs = [p.z for p in points]\n",
    "                    \n",
    "                    # We want the value and index of the min and max in the list of z values\n",
    "                    min_idx, min_val = min(enumerate(zs), key=operator.itemgetter(1))\n",
    "                    max_idx, max_val = max(enumerate(zs), key=operator.itemgetter(1))\n",
    "                    \n",
    "                    # Record the values and shallowest point in our master lists\n",
    "                    mins.append(min_val)\n",
    "                    maxs.append(max_val)\n",
    "                    \n",
    "                    p = points[min_idx]\n",
    "                    minx.append(p.x)\n",
    "                    miny.append(p.y)\n",
    "                    \n",
    "                    # Make GeoDataFrames from the points yielding the min and max\n",
    "                    min_gdf = gp.GeoDataFrame({'geometry':gp.GeoSeries(p)})\n",
    "                    max_gdf = gp.GeoDataFrame({'geometry':gp.GeoSeries(points[max_idx])})\n",
    "                    \n",
    "                    # Reset segment and carry on\n",
    "                    last_cdp = this_cdp\n",
    "                    points = [Point(x, y, twtt)]\n",
    "                    \n",
    "    return gp.GeoDataFrame({'geometry': linestrings,\n",
    "                            'name': names,\n",
    "                            'min': mins,\n",
    "                            'max': maxs,\n",
    "                            'minx': minx,\n",
    "                            'miny': miny\n",
    "                           })"
   ]
  },
  {
   "cell_type": "markdown",
   "metadata": {},
   "source": [
    "Test on a small bit:"
   ]
  },
  {
   "cell_type": "code",
   "execution_count": 20,
   "metadata": {
    "collapsed": false
   },
   "outputs": [
    {
     "name": "stdout",
     "output_type": "stream",
     "text": [
      "\n",
      "Fault to seafloor..................."
     ]
    }
   ],
   "source": [
    "hrz = gdf_from_iesx(horizon_file)"
   ]
  },
  {
   "cell_type": "code",
   "execution_count": 21,
   "metadata": {
    "collapsed": false
   },
   "outputs": [
    {
     "data": {
      "text/html": [
       "<div>\n",
       "<table border=\"1\" class=\"dataframe\">\n",
       "  <thead>\n",
       "    <tr style=\"text-align: right;\">\n",
       "      <th></th>\n",
       "      <th>geometry</th>\n",
       "      <th>max</th>\n",
       "      <th>min</th>\n",
       "      <th>minx</th>\n",
       "      <th>miny</th>\n",
       "      <th>name</th>\n",
       "    </tr>\n",
       "  </thead>\n",
       "  <tbody>\n",
       "    <tr>\n",
       "      <th>0</th>\n",
       "      <td>LINESTRING Z (419840.089 4668132.1 2756.25, 41...</td>\n",
       "      <td>3707.73</td>\n",
       "      <td>2733.93</td>\n",
       "      <td>419819.720</td>\n",
       "      <td>4668163.57</td>\n",
       "      <td>Fault to seafloor</td>\n",
       "    </tr>\n",
       "    <tr>\n",
       "      <th>1</th>\n",
       "      <td>LINESTRING Z (412513.896 4679451.12 2570.42, 4...</td>\n",
       "      <td>4082.56</td>\n",
       "      <td>2570.42</td>\n",
       "      <td>412513.896</td>\n",
       "      <td>4679451.12</td>\n",
       "      <td>Fault to seafloor</td>\n",
       "    </tr>\n",
       "    <tr>\n",
       "      <th>2</th>\n",
       "      <td>LINESTRING Z (417373.758 4666148.69 3549.57, 4...</td>\n",
       "      <td>3549.57</td>\n",
       "      <td>2732.92</td>\n",
       "      <td>416622.455</td>\n",
       "      <td>4667313.88</td>\n",
       "      <td>Fault to seafloor</td>\n",
       "    </tr>\n",
       "    <tr>\n",
       "      <th>3</th>\n",
       "      <td>LINESTRING Z (416473.548 4667544.82 2779.94, 4...</td>\n",
       "      <td>3671.84</td>\n",
       "      <td>2779.94</td>\n",
       "      <td>416473.548</td>\n",
       "      <td>4667544.82</td>\n",
       "      <td>Fault to seafloor</td>\n",
       "    </tr>\n",
       "    <tr>\n",
       "      <th>4</th>\n",
       "      <td>LINESTRING Z (433915.846 4651537.09 3346.44, 4...</td>\n",
       "      <td>4457.18</td>\n",
       "      <td>3346.44</td>\n",
       "      <td>433915.846</td>\n",
       "      <td>4651537.09</td>\n",
       "      <td>Fault to seafloor</td>\n",
       "    </tr>\n",
       "  </tbody>\n",
       "</table>\n",
       "</div>"
      ],
      "text/plain": [
       "                                            geometry      max      min  \\\n",
       "0  LINESTRING Z (419840.089 4668132.1 2756.25, 41...  3707.73  2733.93   \n",
       "1  LINESTRING Z (412513.896 4679451.12 2570.42, 4...  4082.56  2570.42   \n",
       "2  LINESTRING Z (417373.758 4666148.69 3549.57, 4...  3549.57  2732.92   \n",
       "3  LINESTRING Z (416473.548 4667544.82 2779.94, 4...  3671.84  2779.94   \n",
       "4  LINESTRING Z (433915.846 4651537.09 3346.44, 4...  4457.18  3346.44   \n",
       "\n",
       "         minx        miny               name  \n",
       "0  419819.720  4668163.57  Fault to seafloor  \n",
       "1  412513.896  4679451.12  Fault to seafloor  \n",
       "2  416622.455  4667313.88  Fault to seafloor  \n",
       "3  416473.548  4667544.82  Fault to seafloor  \n",
       "4  433915.846  4651537.09  Fault to seafloor  "
      ]
     },
     "execution_count": 21,
     "metadata": {},
     "output_type": "execute_result"
    }
   ],
   "source": [
    "hrz.head()"
   ]
  },
  {
   "cell_type": "markdown",
   "metadata": {},
   "source": [
    "Add a CRS..."
   ]
  },
  {
   "cell_type": "code",
   "execution_count": 23,
   "metadata": {
    "collapsed": false
   },
   "outputs": [],
   "source": [
    "from fiona.crs import from_epsg\n",
    "hrz.crs = from_epsg(26720)"
   ]
  },
  {
   "cell_type": "markdown",
   "metadata": {},
   "source": [
    "Try a quick plot..."
   ]
  },
  {
   "cell_type": "code",
   "execution_count": 26,
   "metadata": {
    "collapsed": false
   },
   "outputs": [
    {
     "data": {
      "text/plain": [
       "<matplotlib.figure.Figure at 0x11bd94588>"
      ]
     },
     "metadata": {},
     "output_type": "display_data"
    },
    {
     "data": {
      "image/png": "[encoded data removed]",
      "text/plain": [
       "<matplotlib.figure.Figure at 0x11bd86080>"
      ]
     },
     "metadata": {},
     "output_type": "display_data"
    }
   ],
   "source": [
    "fig = plt.figure(figsize=(18,10))\n",
    "ax = hrz.plot(column='min')\n",
    "plt.show()"
   ]
  },
  {
   "cell_type": "markdown",
   "metadata": {},
   "source": [
    "Write a file if you like."
   ]
  },
  {
   "cell_type": "code",
   "execution_count": 27,
   "metadata": {
    "collapsed": true
   },
   "outputs": [],
   "source": [
    "# hrz.to_file('../data/horizons_2d_UTM20N_NAD27.shp')"
   ]
  },
  {
   "cell_type": "markdown",
   "metadata": {},
   "source": [
    "## Petrel well headers"
   ]
  },
  {
   "cell_type": "markdown",
   "metadata": {},
   "source": [
    "A format for importing wells into Petrel (or exporting from Petrel?). (Leaving this for later.)\n",
    "\n",
    "    # Petrel well head\n",
    "    VERSION 1\t\t\t\t\t\t\t\n",
    "    BEGIN HEADER\t\t\t\t\t\t\t\n",
    "    Well_ID\t\t\t\t\t\t\t\n",
    "    Well_sequence_number\t\t\t\t\t\t\t\n",
    "    Well_name\t\t\t\t\t\t\t\n",
    "    Surface X [m] NAD 83\t\t\t\t\t\t\t\n",
    "    Surface Y [m] NAD 83\t\t\t\t\t\t\t\n",
    "    KB elevation above sea level\t\t\t\t\t\t\t\n",
    "    TD [m]\t\t\t\t\t\t\t\n",
    "    Operator\t\t\t\t\t\t\t\n",
    "    END HEADER\t\t\t\t\t\t\t\n",
    "     ' P-139 ' \t ' 139 ' \t ' ECE-13-P2_ST ' \t529557\t5045390\t44.68\t1,259.00\t ' East Coast Energy ' \n",
    "     ' P-138 ' \t ' 138 ' \t ' ECE-13-P1 ' \t529996\t5045966\t39.89\t700\t ' East Coast Energy ' \n",
    "     ' P-137 ' \t ' 137 ' \t ' Forent South Branch No.1 K-70-D/11-E-03 ' \t496239\t5003586\t55.9\t784\t ' Forent Energy Ltd ' \n",
    "     ' P-136 ' \t ' 136 ' \t ' Forent Alton No. 1 E-49-C 11-E-03  ' \t479105\t5003441\t40.23\t1001\t ' Forent Energy Ltd. ' \n",
    "     ' P-135 ' \t ' 135 ' \t ' E-38-A/11-E-5 ' \t420980\t5056480\t123\t946\t ' Eastrock Resources ' \n",
    "     ' P-134 ' \t ' 134 ' \t ' ECE-11-01 ' \t529976\t5045865\t43\t678\t ' East Coast Energy ' \n",
    "     ' P-133 ' \t ' 133 ' \t ' E-38-A/11-E-5 ' \t443001\t5015963\t51\t1726\t ' Elmworth Energy Corporation ' "
   ]
  },
  {
   "cell_type": "code",
   "execution_count": null,
   "metadata": {
    "collapsed": true
   },
   "outputs": [],
   "source": []
  }
 ],
 "metadata": {
  "kernelspec": {
   "display_name": "Python [python3]",
   "language": "python",
   "name": "Python [python3]"
  },
  "language_info": {
   "codemirror_mode": {
    "name": "ipython",
    "version": 3
   },
   "file_extension": ".py",
   "mimetype": "text/x-python",
   "name": "python",
   "nbconvert_exporter": "python",
   "pygments_lexer": "ipython3",
   "version": "3.5.2"
  }
 },
 "nbformat": 4,
 "nbformat_minor": 0
}
